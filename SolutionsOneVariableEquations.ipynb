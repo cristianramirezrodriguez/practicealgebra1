{
  "nbformat": 4,
  "nbformat_minor": 0,
  "metadata": {
    "colab": {
      "provenance": [],
      "include_colab_link": true
    },
    "kernelspec": {
      "name": "python3",
      "display_name": "Python 3"
    },
    "language_info": {
      "name": "python"
    }
  },
  "cells": [
    {
      "cell_type": "markdown",
      "metadata": {
        "id": "view-in-github",
        "colab_type": "text"
      },
      "source": [
        "<a href=\"https://colab.research.google.com/github/cristianramirezrodriguez/practicealgebra1/blob/main/SolutionsOneVariableEquations.ipynb\" target=\"_parent\"><img src=\"https://colab.research.google.com/assets/colab-badge.svg\" alt=\"Open In Colab\"/></a>"
      ]
    },
    {
      "cell_type": "markdown",
      "source": [
        "**Solution set for PracticeAssignment OneVariableEquations.ipynb**\n",
        "\n",
        "For my students from EBIA, this is Tech Worksheet 2 Part B"
      ],
      "metadata": {
        "id": "CfnUArEALnrE"
      }
    },
    {
      "cell_type": "markdown",
      "source": [
        "Name: Cristian Ramirez Rodriguez\n",
        "\n",
        "Any Collaborator Names:"
      ],
      "metadata": {
        "id": "s9OwXCMaVEMk"
      }
    },
    {
      "cell_type": "markdown",
      "source": [
        "# We have practiced extensively on solving for x when presented a one-variable equation. Our goal today is to use technology to help our process.\n",
        "\n",
        "Our first step is to move all terms to the left-hand-side of the equation then inputting the left-hand expression into the place where it says \"expression\" in our python solver.\n",
        "\n",
        "# The syntax to find the x value of a given one-variable equation is as follows:\n",
        "\n",
        "from sympy.solvers import solve\n",
        "\n",
        "from sympy import Symbol\n",
        "\n",
        "x = Symbol('x')\n",
        "\n",
        "solve(expression, x)\n",
        "\n",
        "\n",
        "##For example\n",
        "\n",
        "## Say you had the equation $x+3 = 5$\n",
        "\n",
        "## We will first move all terms to the left hand side, producing $x+3-5=0$.\n",
        "\n",
        "##We can then input the expression on the left-hand side in the solver and run the code below (which produced the correct answer, x=2)."
      ],
      "metadata": {
        "id": "0KxoHLs8Vs_2"
      }
    },
    {
      "cell_type": "code",
      "execution_count": 1,
      "metadata": {
        "id": "zNwbAGWHLmcA",
        "colab": {
          "base_uri": "https://localhost:8080/"
        },
        "outputId": "fd4f6e3b-785c-4d3b-cd0d-d4d06c6e0629"
      },
      "outputs": [
        {
          "output_type": "execute_result",
          "data": {
            "text/plain": [
              "[2]"
            ]
          },
          "metadata": {},
          "execution_count": 1
        }
      ],
      "source": [
        "from sympy.solvers import solve\n",
        "from sympy import Symbol\n",
        "x = Symbol('x')\n",
        "solve(x + 3 - 5, x)"
      ]
    },
    {
      "cell_type": "markdown",
      "source": [
        "Another example:\n",
        "\n",
        "Say you want to find $42.1 - x = 2 + x$\n",
        "\n",
        "You would first move everything over to the left hand side, producing\n",
        "\n",
        "$42.1-x-2-x=0$\n",
        "\n",
        "and then input the lefthand expression: $42.1-x-2-x$ into the solver as seen below:"
      ],
      "metadata": {
        "id": "eeuiR_puYtMt"
      }
    },
    {
      "cell_type": "code",
      "source": [
        "from sympy.solvers import solve\n",
        "from sympy import Symbol\n",
        "x = Symbol('x')\n",
        "solve(42.1-x-2-x, x)\n"
      ],
      "metadata": {
        "colab": {
          "base_uri": "https://localhost:8080/"
        },
        "id": "Kx_dgxw_ZNA0",
        "outputId": "6719eb2a-4e7e-442a-f257-7771dce72d31"
      },
      "execution_count": 2,
      "outputs": [
        {
          "output_type": "execute_result",
          "data": {
            "text/plain": [
              "[20.0500000000000]"
            ]
          },
          "metadata": {},
          "execution_count": 2
        }
      ]
    },
    {
      "cell_type": "markdown",
      "source": [
        "This produces 20.05, which is the correct answer."
      ],
      "metadata": {
        "id": "LAhow2RpZXTo"
      }
    },
    {
      "cell_type": "markdown",
      "source": [
        "# For each of the following, find x:\n",
        "\n",
        "1. $2=7x$\n",
        "\n",
        "2. $-4 = 6x$\n",
        "\n",
        "3. $1=x+1$\n",
        "\n",
        "4. $2 = 2x + 22$\n",
        "\n",
        "5. $12.77 = 33x -2$\n",
        "\n",
        "6. $9x = 25.9 - 3$\n",
        "\n",
        "7. $3543x=43-x$\n",
        "\n",
        "8. $45x + 44 = -35x +2$\n",
        "\n",
        "9. $2-5=10(x-4)$\n",
        "\n",
        "10. $4x+5y=0$\n",
        "\n",
        "11. $y = mx+b$\n"
      ],
      "metadata": {
        "id": "YjE0xwluZhFY"
      }
    },
    {
      "cell_type": "code",
      "source": [
        "#Do number 1 here\n",
        "from sympy.solvers import solve\n",
        "import sympy as sym\n",
        "from sympy import Symbol\n",
        "x = Symbol('x')\n",
        "sym.Rational(solve(2-7*x, x)[0]) #The added code gives us a fraction in lowest terms\n",
        "#x is 2/7"
      ],
      "metadata": {
        "id": "-w4dPjwlaWaw",
        "colab": {
          "base_uri": "https://localhost:8080/",
          "height": 51
        },
        "outputId": "7bfb0155-c528-4d83-d899-237047c0f4bd"
      },
      "execution_count": 3,
      "outputs": [
        {
          "output_type": "execute_result",
          "data": {
            "text/plain": [
              "2/7"
            ],
            "text/latex": "$\\displaystyle \\frac{2}{7}$"
          },
          "metadata": {},
          "execution_count": 3
        }
      ]
    },
    {
      "cell_type": "code",
      "source": [
        "#Do number 2 here\n",
        "from sympy.solvers import solve\n",
        "import sympy as sym\n",
        "from sympy import Symbol\n",
        "x = Symbol('x')\n",
        "sym.Rational(solve(-4-6*x, x)[0])"
      ],
      "metadata": {
        "id": "AutUE6WDkfiS",
        "colab": {
          "base_uri": "https://localhost:8080/",
          "height": 51
        },
        "outputId": "7d94dab5-03b0-4d92-cb08-6b9d8191a493"
      },
      "execution_count": 4,
      "outputs": [
        {
          "output_type": "execute_result",
          "data": {
            "text/plain": [
              "-2/3"
            ],
            "text/latex": "$\\displaystyle - \\frac{2}{3}$"
          },
          "metadata": {},
          "execution_count": 4
        }
      ]
    },
    {
      "cell_type": "code",
      "source": [
        "#Do number 3 here\n",
        "from sympy.solvers import solve\n",
        "import sympy as sym\n",
        "from sympy import Symbol\n",
        "x = Symbol('x')\n",
        "sym.Rational(solve(1-x-1, x)[0])"
      ],
      "metadata": {
        "id": "FELPmJM_kfwL",
        "colab": {
          "base_uri": "https://localhost:8080/",
          "height": 37
        },
        "outputId": "26f4e7e4-8e4d-4c1b-a50a-1ff06eb9e3fc"
      },
      "execution_count": 5,
      "outputs": [
        {
          "output_type": "execute_result",
          "data": {
            "text/plain": [
              "0"
            ],
            "text/latex": "$\\displaystyle 0$"
          },
          "metadata": {},
          "execution_count": 5
        }
      ]
    },
    {
      "cell_type": "code",
      "source": [
        "#Do number 4 here\n",
        "from sympy.solvers import solve\n",
        "import sympy as sym\n",
        "from sympy import Symbol\n",
        "x = Symbol('x')\n",
        "sym.Rational(solve(2-2*x-22, x)[0])"
      ],
      "metadata": {
        "id": "Hk6NshW6kf8z",
        "colab": {
          "base_uri": "https://localhost:8080/",
          "height": 37
        },
        "outputId": "9e96b0ad-09e0-41f8-faec-b52885a154c8"
      },
      "execution_count": 6,
      "outputs": [
        {
          "output_type": "execute_result",
          "data": {
            "text/plain": [
              "-10"
            ],
            "text/latex": "$\\displaystyle -10$"
          },
          "metadata": {},
          "execution_count": 6
        }
      ]
    },
    {
      "cell_type": "code",
      "source": [
        "#Do number 5 here\n",
        "from sympy.solvers import solve\n",
        "import sympy as sym\n",
        "from sympy import Symbol\n",
        "x = Symbol('x')\n",
        "solve(12.77-33*x+2, x)"
      ],
      "metadata": {
        "id": "W7BXjznskk7b",
        "colab": {
          "base_uri": "https://localhost:8080/"
        },
        "outputId": "bb45e613-cd0d-43b4-c2f2-1df780fd8e86"
      },
      "execution_count": 7,
      "outputs": [
        {
          "output_type": "execute_result",
          "data": {
            "text/plain": [
              "[0.447575757575758]"
            ]
          },
          "metadata": {},
          "execution_count": 7
        }
      ]
    },
    {
      "cell_type": "code",
      "source": [
        "#Do number 6 here\n",
        "from sympy.solvers import solve\n",
        "import sympy as sym\n",
        "from sympy import Symbol\n",
        "x = Symbol('x')\n",
        "solve(9*x-25.9+3, x)[0]"
      ],
      "metadata": {
        "id": "v3gIPrKEklE_",
        "colab": {
          "base_uri": "https://localhost:8080/",
          "height": 37
        },
        "outputId": "3273dff1-0f55-4e11-98ce-e794dd1397dc"
      },
      "execution_count": 8,
      "outputs": [
        {
          "output_type": "execute_result",
          "data": {
            "text/plain": [
              "2.54444444444444"
            ],
            "text/latex": "$\\displaystyle 2.54444444444444$"
          },
          "metadata": {},
          "execution_count": 8
        }
      ]
    },
    {
      "cell_type": "code",
      "source": [
        "#Do number 7 here\n",
        "from sympy.solvers import solve\n",
        "import sympy as sym\n",
        "from sympy import Symbol\n",
        "x = Symbol('x')\n",
        "sym.Rational(solve(3543*x-43+x, x)[0])"
      ],
      "metadata": {
        "id": "FVaV9FedklP1",
        "colab": {
          "base_uri": "https://localhost:8080/",
          "height": 51
        },
        "outputId": "72a46a19-3ae0-4bc6-a619-edbb9db808a1"
      },
      "execution_count": 9,
      "outputs": [
        {
          "output_type": "execute_result",
          "data": {
            "text/plain": [
              "43/3544"
            ],
            "text/latex": "$\\displaystyle \\frac{43}{3544}$"
          },
          "metadata": {},
          "execution_count": 9
        }
      ]
    },
    {
      "cell_type": "code",
      "source": [
        "#Do number 8 here\n",
        "from sympy.solvers import solve\n",
        "import sympy as sym\n",
        "from sympy import Symbol\n",
        "x = Symbol('x')\n",
        "sym.Rational(solve(45*x+44+35*x-2, x)[0])"
      ],
      "metadata": {
        "id": "bpq_byneklX6",
        "colab": {
          "base_uri": "https://localhost:8080/",
          "height": 51
        },
        "outputId": "eb395b2a-d69b-411b-c9ef-2e07c4dff716"
      },
      "execution_count": 10,
      "outputs": [
        {
          "output_type": "execute_result",
          "data": {
            "text/plain": [
              "-21/40"
            ],
            "text/latex": "$\\displaystyle - \\frac{21}{40}$"
          },
          "metadata": {},
          "execution_count": 10
        }
      ]
    },
    {
      "cell_type": "code",
      "source": [
        "#Do number 9 here\n",
        "from sympy.solvers import solve\n",
        "import sympy as sym\n",
        "from sympy import Symbol\n",
        "x = Symbol('x')\n",
        "sym.Rational(solve(2-5-10*(x-4), x)[0])"
      ],
      "metadata": {
        "id": "igqBzJCJkliG",
        "colab": {
          "base_uri": "https://localhost:8080/",
          "height": 51
        },
        "outputId": "bd22676b-e983-4d71-dc9a-aedc8b6bfbbb"
      },
      "execution_count": 11,
      "outputs": [
        {
          "output_type": "execute_result",
          "data": {
            "text/plain": [
              "37/10"
            ],
            "text/latex": "$\\displaystyle \\frac{37}{10}$"
          },
          "metadata": {},
          "execution_count": 11
        }
      ]
    },
    {
      "cell_type": "code",
      "source": [
        "#Do number 10 here\n",
        "from sympy.solvers import solve\n",
        "import sympy as sym\n",
        "from sympy import Symbol\n",
        "x = Symbol('x')\n",
        "y = Symbol('y') #with more variables, need to name them\n",
        "solve(4*x+5*y, x) #Since no longer a number but expression can't use sym.Rational"
      ],
      "metadata": {
        "id": "oOiCOZBDkqs-",
        "colab": {
          "base_uri": "https://localhost:8080/"
        },
        "outputId": "b0c99edd-b42b-43d4-bef7-307cdb13c9e3"
      },
      "execution_count": 12,
      "outputs": [
        {
          "output_type": "execute_result",
          "data": {
            "text/plain": [
              "[-5*y/4]"
            ]
          },
          "metadata": {},
          "execution_count": 12
        }
      ]
    },
    {
      "cell_type": "code",
      "source": [
        "#Do number 11 here\n",
        "#Do number 10 here\n",
        "from sympy.solvers import solve\n",
        "import sympy as sym\n",
        "from sympy import Symbol\n",
        "x = Symbol('x')\n",
        "y = Symbol('y') #with more variables, need to name them\n",
        "m = Symbol('m')\n",
        "b = Symbol('b')\n",
        "solve(y-m*x-b, x)"
      ],
      "metadata": {
        "id": "c3qT5bT5krzM",
        "colab": {
          "base_uri": "https://localhost:8080/"
        },
        "outputId": "5ebf7817-b860-4c48-d9a6-f0fdf1b32d2d"
      },
      "execution_count": 13,
      "outputs": [
        {
          "output_type": "execute_result",
          "data": {
            "text/plain": [
              "[(-b + y)/m]"
            ]
          },
          "metadata": {},
          "execution_count": 13
        }
      ]
    }
  ]
}