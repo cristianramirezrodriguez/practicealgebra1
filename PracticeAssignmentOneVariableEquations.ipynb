{
  "nbformat": 4,
  "nbformat_minor": 0,
  "metadata": {
    "colab": {
      "provenance": [],
      "include_colab_link": true
    },
    "kernelspec": {
      "name": "python3",
      "display_name": "Python 3"
    },
    "language_info": {
      "name": "python"
    }
  },
  "cells": [
    {
      "cell_type": "markdown",
      "metadata": {
        "id": "view-in-github",
        "colab_type": "text"
      },
      "source": [
        "<a href=\"https://colab.research.google.com/github/cristianramirezrodriguez/practicealgebra1/blob/main/PracticeAssignmentOneVariableEquations.ipynb\" target=\"_parent\"><img src=\"https://colab.research.google.com/assets/colab-badge.svg\" alt=\"Open In Colab\"/></a>"
      ]
    },
    {
      "cell_type": "markdown",
      "source": [
        "**A Practice Assignment To Learn How To Use Python To Solve For x**\n",
        "\n",
        "*The Solution Set Will Be On Github as SoutionsOneVariableEquations.ipynb*\n",
        "\n",
        "For my students from EBIA, this is Tech Worksheet 2 Part B"
      ],
      "metadata": {
        "id": "CfnUArEALnrE"
      }
    },
    {
      "cell_type": "markdown",
      "source": [
        "Name:\n",
        "\n",
        "Any Collaborator Names:"
      ],
      "metadata": {
        "id": "s9OwXCMaVEMk"
      }
    },
    {
      "cell_type": "markdown",
      "source": [
        "# We have practiced extensively on solving for x when presented a one-variable equation. Our goal today is to use technology to help our process.\n",
        "\n",
        "Our first step is to move all terms to the left-hand-side of the equation then inputting the left-hand expression into the place where it says \"expression\" in our python solver.\n",
        "\n",
        "# The syntax to find the x value of a given one-variable equation is as follows:\n",
        "\n",
        "from sympy.solvers import solve\n",
        "\n",
        "from sympy import Symbol\n",
        "\n",
        "x = Symbol('x')\n",
        "\n",
        "solve(expression, x)\n",
        "\n",
        "\n",
        "##For example\n",
        "\n",
        "## Say you had the equation $x+3 = 5$\n",
        "\n",
        "## We will first move all terms to the left hand side, producing $x+3-5=0$.\n",
        "\n",
        "##We can then input the expression on the left-hand side in the solver and run the code below (which produced the correct answer, x=2)."
      ],
      "metadata": {
        "id": "0KxoHLs8Vs_2"
      }
    },
    {
      "cell_type": "code",
      "execution_count": 1,
      "metadata": {
        "id": "zNwbAGWHLmcA",
        "colab": {
          "base_uri": "https://localhost:8080/"
        },
        "outputId": "d1e1032d-77d0-4624-f02b-e35ea328f14b"
      },
      "outputs": [
        {
          "output_type": "execute_result",
          "data": {
            "text/plain": [
              "[2]"
            ]
          },
          "metadata": {},
          "execution_count": 1
        }
      ],
      "source": [
        "from sympy.solvers import solve\n",
        "from sympy import Symbol\n",
        "x = Symbol('x')\n",
        "solve(x + 3 - 5, x)"
      ]
    },
    {
      "cell_type": "markdown",
      "source": [
        "Another example:\n",
        "\n",
        "Say you want to find $42.1 - x = 2 + x$\n",
        "\n",
        "You would first move everything over to the left hand side, producing\n",
        "\n",
        "$42.1-x-2-x=0$\n",
        "\n",
        "and then input the lefthand expression: $42.1-x-2-x$ into the solver as seen below:"
      ],
      "metadata": {
        "id": "eeuiR_puYtMt"
      }
    },
    {
      "cell_type": "code",
      "source": [
        "from sympy.solvers import solve\n",
        "from sympy import Symbol\n",
        "x = Symbol('x')\n",
        "solve(42.1-x-2-x, x)\n"
      ],
      "metadata": {
        "colab": {
          "base_uri": "https://localhost:8080/"
        },
        "id": "Kx_dgxw_ZNA0",
        "outputId": "4cf54e1b-18ee-4cd2-fb76-1f1acf2a8ece"
      },
      "execution_count": 2,
      "outputs": [
        {
          "output_type": "execute_result",
          "data": {
            "text/plain": [
              "[20.0500000000000]"
            ]
          },
          "metadata": {},
          "execution_count": 2
        }
      ]
    },
    {
      "cell_type": "markdown",
      "source": [
        "This produces 20.05, which is the correct answer."
      ],
      "metadata": {
        "id": "LAhow2RpZXTo"
      }
    },
    {
      "cell_type": "markdown",
      "source": [
        "# For each of the following, find x:\n",
        "\n",
        "1. $2=7x$\n",
        "\n",
        "2. $-4 = 6x$\n",
        "\n",
        "3. $1=x+1$\n",
        "\n",
        "4. $2 = 2x + 22$\n",
        "\n",
        "5. $12.77 = 33x -2$\n",
        "\n",
        "6. $9x = 25.9 - 3$\n",
        "\n",
        "7. $3543x=43-x$\n",
        "\n",
        "8. $45x + 44 = -35x +2$\n",
        "\n",
        "9. $2-5=10(x-4)$\n",
        "\n",
        "10. $4x+5y=0$\n",
        "\n",
        "11. $y = mx+b$\n"
      ],
      "metadata": {
        "id": "YjE0xwluZhFY"
      }
    },
    {
      "cell_type": "code",
      "source": [
        "#Do number 1 here"
      ],
      "metadata": {
        "id": "-w4dPjwlaWaw"
      },
      "execution_count": null,
      "outputs": []
    },
    {
      "cell_type": "code",
      "source": [
        "#Do number 2 here"
      ],
      "metadata": {
        "id": "AutUE6WDkfiS"
      },
      "execution_count": null,
      "outputs": []
    },
    {
      "cell_type": "code",
      "source": [
        "#Do number 3 here"
      ],
      "metadata": {
        "id": "FELPmJM_kfwL"
      },
      "execution_count": null,
      "outputs": []
    },
    {
      "cell_type": "code",
      "source": [
        "#Do number 4 here"
      ],
      "metadata": {
        "id": "Hk6NshW6kf8z"
      },
      "execution_count": null,
      "outputs": []
    },
    {
      "cell_type": "code",
      "source": [
        "#Do number 5 here"
      ],
      "metadata": {
        "id": "W7BXjznskk7b"
      },
      "execution_count": null,
      "outputs": []
    },
    {
      "cell_type": "code",
      "source": [
        "#Do number 6 here"
      ],
      "metadata": {
        "id": "v3gIPrKEklE_"
      },
      "execution_count": null,
      "outputs": []
    },
    {
      "cell_type": "code",
      "source": [
        "#Do number 7 here"
      ],
      "metadata": {
        "id": "FVaV9FedklP1"
      },
      "execution_count": null,
      "outputs": []
    },
    {
      "cell_type": "code",
      "source": [
        "#Do number 8 here"
      ],
      "metadata": {
        "id": "bpq_byneklX6"
      },
      "execution_count": null,
      "outputs": []
    },
    {
      "cell_type": "code",
      "source": [
        "#Do number 9 here"
      ],
      "metadata": {
        "id": "igqBzJCJkliG"
      },
      "execution_count": null,
      "outputs": []
    },
    {
      "cell_type": "code",
      "source": [
        "#Do number 10 here"
      ],
      "metadata": {
        "id": "oOiCOZBDkqs-"
      },
      "execution_count": null,
      "outputs": []
    },
    {
      "cell_type": "code",
      "source": [
        "#Do number 11 here"
      ],
      "metadata": {
        "id": "c3qT5bT5krzM"
      },
      "execution_count": null,
      "outputs": []
    }
  ]
}