{
  "nbformat": 4,
  "nbformat_minor": 0,
  "metadata": {
    "colab": {
      "provenance": [],
      "include_colab_link": true
    },
    "kernelspec": {
      "name": "python3",
      "display_name": "Python 3"
    },
    "language_info": {
      "name": "python"
    }
  },
  "cells": [
    {
      "cell_type": "markdown",
      "metadata": {
        "id": "view-in-github",
        "colab_type": "text"
      },
      "source": [
        "<a href=\"https://colab.research.google.com/github/cristianramirezrodriguez/practicealgebra1/blob/main/SoutionsEvaluatingLinearFunctions.ipynb\" target=\"_parent\"><img src=\"https://colab.research.google.com/assets/colab-badge.svg\" alt=\"Open In Colab\"/></a>"
      ]
    },
    {
      "cell_type": "markdown",
      "source": [
        "**A Practice Assignment To Learn How To Use Python To Evaluate Linear Functions**\n",
        "\n",
        "*The Solution Set To PracticeAssignmentEvaluatingLinearFunctions.ipynb*\n",
        "\n",
        "For my students from EBIA, this is Tech Worksheet 2 Part A"
      ],
      "metadata": {
        "id": "SPiZuAfx_x_v"
      }
    },
    {
      "cell_type": "markdown",
      "source": [
        "Your Name: Cristian Ramirez Rodriguez\n",
        "\n",
        "Names of any collaborators:"
      ],
      "metadata": {
        "id": "a2a7KEh6OuiS"
      }
    },
    {
      "cell_type": "markdown",
      "source": [
        "**Here is an example**\n",
        "\n",
        "Example: Create a python function such that $f(x)= x+5$\n",
        "\n",
        "Then Evaluate $f(-2), f(0), f(2), f(2.5)$"
      ],
      "metadata": {
        "id": "VulFrBOd5Uvp"
      }
    },
    {
      "cell_type": "code",
      "source": [
        "import numpy as np\n",
        "\n",
        "def f(x):\n",
        "  y = x+5\n",
        "  return(y)\n",
        "\n",
        "inputlist = [-2,0,2,2.5]\n",
        "xarray = np.array(inputlist)\n",
        "\n",
        "print(\"My outputs are\", f(xarray))"
      ],
      "metadata": {
        "colab": {
          "base_uri": "https://localhost:8080/"
        },
        "id": "kcHIL4Ua5pe4",
        "outputId": "0c2dd1be-11e4-4af4-8e3d-41e2d1b1470e"
      },
      "execution_count": 1,
      "outputs": [
        {
          "output_type": "stream",
          "name": "stdout",
          "text": [
            "My outputs are [3.  5.  7.  7.5]\n"
          ]
        }
      ]
    },
    {
      "cell_type": "markdown",
      "source": [
        "# 1. Create a python function such that $f(x)= x+5$\n",
        "\n",
        "# 2. Evaluate $f(-1), f(-0.4), f(0.2), f(4), f(12)$"
      ],
      "metadata": {
        "id": "MdqxDAc84fqs"
      }
    },
    {
      "cell_type": "code",
      "source": [
        "import numpy as np\n",
        "\n",
        "def f(x):\n",
        "  y = x+5\n",
        "  return(y)\n",
        "\n",
        "inputlist = [-1,-0.4,0.2,4,12]\n",
        "xarray = np.array(inputlist)\n",
        "\n",
        "print(\"My outputs are\", f(xarray))"
      ],
      "metadata": {
        "id": "wcuvR0Ti43JD",
        "colab": {
          "base_uri": "https://localhost:8080/"
        },
        "outputId": "c4b12bd2-ec78-4874-90d2-8ed16b96709f"
      },
      "execution_count": 2,
      "outputs": [
        {
          "output_type": "stream",
          "name": "stdout",
          "text": [
            "My outputs are [ 4.   4.6  5.2  9.  17. ]\n"
          ]
        }
      ]
    },
    {
      "cell_type": "markdown",
      "source": [
        "# 3. Create a python function such that $f(x)= 2x +7$\n",
        "\n",
        "# 4.  Evaluate $f(-1), f(-0.4), f(0.2), f(4), f(12)$"
      ],
      "metadata": {
        "id": "4J02Me9q45JA"
      }
    },
    {
      "cell_type": "code",
      "source": [
        "import numpy as np\n",
        "\n",
        "def f(x):\n",
        "  y = 2*x+7\n",
        "  return(y)\n",
        "\n",
        "inputlist = [-1,-0.4,0.2,4,12]\n",
        "xarray = np.array(inputlist)\n",
        "\n",
        "print(\"My outputs are\", f(xarray))"
      ],
      "metadata": {
        "id": "3RBpN33T44LK",
        "colab": {
          "base_uri": "https://localhost:8080/"
        },
        "outputId": "216696cb-05d2-402e-f610-2b58add0eb86"
      },
      "execution_count": 3,
      "outputs": [
        {
          "output_type": "stream",
          "name": "stdout",
          "text": [
            "My outputs are [ 5.   6.2  7.4 15.  31. ]\n"
          ]
        }
      ]
    },
    {
      "cell_type": "markdown",
      "source": [
        "# 5. Create a python function such that $f(x)=42.42x - 84$\n",
        "\n",
        "# 6. Evaluate $f(-1), f(-0.4), f(0.2), f(4), f(12)$\n"
      ],
      "metadata": {
        "id": "xZfCOgaeAKr0"
      }
    },
    {
      "cell_type": "code",
      "source": [
        "import numpy as np\n",
        "\n",
        "def f(x):\n",
        "  y = 42.42*x-84\n",
        "  return(y)\n",
        "\n",
        "inputlist = [-1,-0.4,0.2,4,12]\n",
        "xarray = np.array(inputlist)\n",
        "\n",
        "print(\"My outputs are\", f(xarray))"
      ],
      "metadata": {
        "id": "_t4fUwfX49IK",
        "colab": {
          "base_uri": "https://localhost:8080/"
        },
        "outputId": "692358c7-35bc-47d0-b8a1-49512ffc6de3"
      },
      "execution_count": 4,
      "outputs": [
        {
          "output_type": "stream",
          "name": "stdout",
          "text": [
            "My outputs are [-126.42  -100.968  -75.516   85.68   425.04 ]\n"
          ]
        }
      ]
    }
  ]
}